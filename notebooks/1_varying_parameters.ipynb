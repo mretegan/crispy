{
 "cells": [
  {
   "cell_type": "markdown",
   "id": "05556ea3",
   "metadata": {},
   "source": [
    "# Exploring the parameter space\n",
    "\n",
    "Semi-empirical multiplets use a parametrized Hamiltonian to calculate the spectrum. One significant advantage of doing such calculations in a Jupyter notebook is that you can easily explore the parameter space and see how it will affect the spectrum.\n",
    "\n",
    "In this exercise, you will change the crystal field strength of an octahedrally coordinated iron complex."
   ]
  },
  {
   "cell_type": "markdown",
   "id": "4b4a5c95",
   "metadata": {},
   "source": [
    "## Import the required packages, setup logging, and save the current working directory"
   ]
  },
  {
   "cell_type": "code",
   "execution_count": null,
   "id": "14e54e72",
   "metadata": {},
   "outputs": [],
   "source": [
    "%matplotlib widget"
   ]
  },
  {
   "cell_type": "code",
   "execution_count": null,
   "id": "ab548e92",
   "metadata": {},
   "outputs": [],
   "source": [
    "import os\n",
    "\n",
    "import matplotlib.pyplot as plt\n",
    "import numpy as np\n",
    "from crispy.notebook import Calculation\n",
    "\n",
    "SWD = os.getcwd()"
   ]
  },
  {
   "cell_type": "markdown",
   "id": "8f423bad",
   "metadata": {},
   "source": [
    "## Set up the calculation and loop over the crystal field parameter"
   ]
  },
  {
   "cell_type": "code",
   "execution_count": null,
   "id": "122eeaf6",
   "metadata": {},
   "outputs": [],
   "source": [
    "calc = Calculation(\"Fe3+\", \"Oh\", \"XAS\", \"K (1s)\")\n",
    "tendqs = [0, 1.2, 2.4, 3.6]\n",
    "\n",
    "header, results = [], []\n",
    "fig, ax = plt.subplots(figsize=(7, 4.3))\n",
    "\n",
    "for i, tendq in enumerate(tendqs):\n",
    "    # Set the 10Dq value.\n",
    "    calc.hamiltonian.set_parameter(\"10Dq(3d)\", tendq)\n",
    "\n",
    "    # Run the calculation.\n",
    "    calc.run()\n",
    "\n",
    "    # Get the spectrum for the current 10Dq value.\n",
    "    spectrum = calc.spectra.get_all_calculated()[i]\n",
    "\n",
    "    # Plot the spectrum.\n",
    "    ax.plot(spectrum.x, spectrum.signal, label=f\"{tendq:.1f} eV\")\n",
    "\n",
    "    # Append the spectrum to results.\n",
    "    header.append(f\"x and signal for 10Dq = {tendq}\")\n",
    "    results.extend([spectrum.x, spectrum.signal])\n",
    "\n",
    "ax.legend()\n",
    "\n",
    "ax.set_xlabel(\"Absorption Energy (eV)\")\n",
    "ax.set_ylabel(\"Intensity (a.u.)\")\n",
    "ax.set_title(\"Influence of the crystal field splitting (10Dq)\")\n",
    "\n",
    "plt.tight_layout()"
   ]
  },
  {
   "cell_type": "markdown",
   "id": "2a3a9d9c",
   "metadata": {},
   "source": [
    "## Save the calculate spectra to file"
   ]
  },
  {
   "cell_type": "code",
   "execution_count": null,
   "id": "daf4c23d",
   "metadata": {},
   "outputs": [],
   "source": [
    "os.chdir(SWD)\n",
    "np.savetxt(fname=\"1_results.dat\", X=np.array(results).T, header=\", \".join(header))\n",
    "!ls"
   ]
  }
 ],
 "metadata": {
  "kernelspec": {
   "display_name": "Python 3 (ipykernel)",
   "language": "python",
   "name": "python3"
  },
  "language_info": {
   "codemirror_mode": {
    "name": "ipython",
    "version": 3
   },
   "file_extension": ".py",
   "mimetype": "text/x-python",
   "name": "python",
   "nbconvert_exporter": "python",
   "pygments_lexer": "ipython3",
   "version": "3.11.6"
  },
  "widgets": {
   "application/vnd.jupyter.widget-state+json": {
    "state": {},
    "version_major": 2,
    "version_minor": 0
   }
  }
 },
 "nbformat": 4,
 "nbformat_minor": 5
}
